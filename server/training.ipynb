{
 "cells": [
  {
   "cell_type": "code",
   "execution_count": 2,
   "metadata": {},
   "outputs": [],
   "source": [
    "from lazypredict.Supervised import LazyClassifier\n",
    "from sklearn.datasets import load_breast_cancer\n",
    "from sklearn.model_selection import train_test_split\n",
    "from sklearn.impute import SimpleImputer\n",
    "from sklearn import preprocessing\n",
    "import pandas as pd\n",
    "import numpy as np\n"
   ]
  },
  {
   "cell_type": "code",
   "execution_count": null,
   "metadata": {},
   "outputs": [],
   "source": [
    "data = load_breast_cancer()\n",
    "X = data.data\n",
    "y= data.target\n",
    "\n",
    "X_train, X_test, y_train, y_test = train_test_split(X, y,test_size=.5,random_state =123)\n",
    "\n",
    "clf = LazyClassifier(verbose=0,ignore_warnings=True, custom_metric=None)\n",
    "models,predictions = clf.fit(X_train, X_test, y_train, y_test)\n",
    "\n",
    "print(models)"
   ]
  },
  {
   "cell_type": "code",
   "execution_count": 18,
   "metadata": {},
   "outputs": [
    {
     "name": "stderr",
     "output_type": "stream",
     "text": [
      "100%|██████████| 29/29 [00:03<00:00,  7.80it/s]"
     ]
    },
    {
     "name": "stdout",
     "output_type": "stream",
     "text": [
      "                               Accuracy  Balanced Accuracy  ROC AUC  F1 Score  \\\n",
      "Model                                                                           \n",
      "AdaBoostClassifier                 1.00               1.00     1.00      1.00   \n",
      "GaussianNB                         1.00               1.00     1.00      1.00   \n",
      "BaggingClassifier                  1.00               1.00     1.00      1.00   \n",
      "LinearDiscriminantAnalysis         1.00               1.00     1.00      1.00   \n",
      "ExtraTreesClassifier               1.00               1.00     1.00      1.00   \n",
      "RandomForestClassifier             0.96               0.96     0.96      0.96   \n",
      "BernoulliNB                        0.93               0.93     0.93      0.93   \n",
      "LogisticRegression                 0.86               0.87     0.87      0.86   \n",
      "SVC                                0.86               0.86     0.86      0.86   \n",
      "RidgeClassifier                    0.79               0.78     0.78      0.79   \n",
      "LinearSVC                          0.79               0.78     0.78      0.79   \n",
      "RidgeClassifierCV                  0.79               0.78     0.78      0.79   \n",
      "NearestCentroid                    0.75               0.77     0.77      0.74   \n",
      "Perceptron                         0.75               0.74     0.74      0.75   \n",
      "SGDClassifier                      0.75               0.74     0.74      0.75   \n",
      "NuSVC                              0.75               0.74     0.74      0.75   \n",
      "PassiveAggressiveClassifier        0.71               0.71     0.71      0.71   \n",
      "KNeighborsClassifier               0.61               0.63     0.63      0.57   \n",
      "LabelPropagation                   0.61               0.58     0.58      0.52   \n",
      "LabelSpreading                     0.61               0.58     0.58      0.52   \n",
      "QuadraticDiscriminantAnalysis      0.54               0.52     0.52      0.51   \n",
      "DummyClassifier                    0.54               0.50     0.50      0.37   \n",
      "XGBClassifier                      0.54               0.50     0.50      0.37   \n",
      "LGBMClassifier                     0.54               0.50     0.50      0.37   \n",
      "ExtraTreeClassifier                0.43               0.42     0.42      0.41   \n",
      "DecisionTreeClassifier             0.32               0.31     0.31      0.31   \n",
      "\n",
      "                               Time Taken  \n",
      "Model                                      \n",
      "AdaBoostClassifier                   0.03  \n",
      "GaussianNB                           0.03  \n",
      "BaggingClassifier                    0.10  \n",
      "LinearDiscriminantAnalysis           0.02  \n",
      "ExtraTreesClassifier                 0.33  \n",
      "RandomForestClassifier               0.36  \n",
      "BernoulliNB                          0.05  \n",
      "LogisticRegression                   0.02  \n",
      "SVC                                  0.02  \n",
      "RidgeClassifier                      0.02  \n",
      "LinearSVC                            0.02  \n",
      "RidgeClassifierCV                    0.02  \n",
      "NearestCentroid                      0.04  \n",
      "Perceptron                           0.02  \n",
      "SGDClassifier                        0.01  \n",
      "NuSVC                                0.02  \n",
      "PassiveAggressiveClassifier          0.03  \n",
      "KNeighborsClassifier                 0.07  \n",
      "LabelPropagation                     0.04  \n",
      "LabelSpreading                       0.04  \n",
      "QuadraticDiscriminantAnalysis        0.02  \n",
      "DummyClassifier                      0.05  \n",
      "XGBClassifier                        1.68  \n",
      "LGBMClassifier                       0.45  \n",
      "ExtraTreeClassifier                  0.06  \n",
      "DecisionTreeClassifier               0.04  \n"
     ]
    },
    {
     "name": "stderr",
     "output_type": "stream",
     "text": [
      "\n"
     ]
    }
   ],
   "source": [
    "df = pd.read_csv(\"./data/training_landmarks.csv\")\n",
    "df_np = df.to_numpy(copy=True)\n",
    "\n",
    "X = df_np[:, 1:-1]\n",
    "y= df_np[:, -1]\n",
    "\n",
    "# Encode y into numerical labels\n",
    "le = preprocessing.LabelEncoder()\n",
    "y = le.fit_transform(y)\n",
    "\n",
    "X_train, X_test, y_train, y_test = train_test_split(X, y,test_size=.8,random_state =123)\n",
    "\n",
    "# Imputing missing values AFTER the data split\n",
    "X_train = SimpleImputer(missing_values=np.nan, strategy='mean').fit_transform(X_train)\n",
    "X_test = SimpleImputer(missing_values=np.nan, strategy='mean').fit_transform(X_test)\n",
    "\n",
    "clf = LazyClassifier(verbose=0, ignore_warnings=True, custom_metric=None)\n",
    "models,predictions = clf.fit(X_train, X_test, y_train, y_test)\n",
    "\n",
    "print(models)"
   ]
  },
  {
   "cell_type": "code",
   "execution_count": 3,
   "metadata": {},
   "outputs": [
    {
     "data": {
      "text/plain": [
       "(array([[0.515096128, 0.292093754, 0.504475772, ..., 0.924711823,\n",
       "         0.516159475, 0.956537724],\n",
       "        [0.455881566, 0.300834924, 0.469460577, ..., 0.902029693,\n",
       "         0.445862234, 0.885526538],\n",
       "        [0.515096128, 0.292093754, 0.504475772, ..., 0.924711823,\n",
       "         0.516159475, 0.956537724],\n",
       "        ...,\n",
       "        [0.496946275, 0.29766351, 0.484862566, ..., 0.911811292,\n",
       "         0.545915365, 0.905646861],\n",
       "        [0.562297046, 0.294404089, 0.552963018, ..., 0.889972568,\n",
       "         0.604453743, 0.916724324],\n",
       "        [0.520139694, 0.300726354, 0.531307757, ..., 0.923831046,\n",
       "         0.449077696, 0.927506685]], dtype=object),\n",
       " array([0, 0, 0, 0, 0, 0, 0, 0, 0, 0, 0, 0, 0, 0, 0, 0, 0, 0, 1, 1, 1, 1,\n",
       "        1, 1, 1, 1, 1, 1, 1, 1, 1, 1, 1, 1]),\n",
       " array([0, 0, 0, 0, 0, 0, 1, 1, 1]))"
      ]
     },
     "execution_count": 3,
     "metadata": {},
     "output_type": "execute_result"
    }
   ],
   "source": [
    "# Use ham's data as testing data\n",
    "train_data = pd.read_csv(\"./data/training_landmarks.csv\").to_numpy(copy=True)\n",
    "test_data = pd.read_csv(\"./data/testing_landmarks.csv\").to_numpy(copy=True)\n",
    "\n",
    "X_train = train_data[:, 1:-1]\n",
    "y_train = train_data[:, -1]\n",
    "X_test = test_data[:, 1:-1]\n",
    "y_test = test_data[:, -1]\n",
    "\n",
    "# Encode y into numerical labels\n",
    "le = preprocessing.LabelEncoder()\n",
    "y_train = le.fit_transform(y_train)\n",
    "y_test = le.fit_transform(y_test)\n",
    "\n",
    "X_train, y_train, y_test"
   ]
  },
  {
   "cell_type": "code",
   "execution_count": 5,
   "metadata": {},
   "outputs": [
    {
     "name": "stderr",
     "output_type": "stream",
     "text": [
      "100%|██████████| 29/29 [00:02<00:00, 10.06it/s]"
     ]
    },
    {
     "name": "stdout",
     "output_type": "stream",
     "text": [
      "                               Accuracy  Balanced Accuracy  ROC AUC  F1 Score  \\\n",
      "Model                                                                           \n",
      "LinearSVC                          1.00               1.00     1.00      1.00   \n",
      "LinearDiscriminantAnalysis         1.00               1.00     1.00      1.00   \n",
      "NuSVC                              1.00               1.00     1.00      1.00   \n",
      "CalibratedClassifierCV             1.00               1.00     1.00      1.00   \n",
      "DecisionTreeClassifier             1.00               1.00     1.00      1.00   \n",
      "RandomForestClassifier             1.00               1.00     1.00      1.00   \n",
      "SVC                                1.00               1.00     1.00      1.00   \n",
      "ExtraTreesClassifier               1.00               1.00     1.00      1.00   \n",
      "LogisticRegression                 1.00               1.00     1.00      1.00   \n",
      "BaggingClassifier                  1.00               1.00     1.00      1.00   \n",
      "RidgeClassifierCV                  1.00               1.00     1.00      1.00   \n",
      "RidgeClassifier                    1.00               1.00     1.00      1.00   \n",
      "KNeighborsClassifier               0.89               0.92     0.92      0.89   \n",
      "Perceptron                         0.89               0.92     0.92      0.89   \n",
      "SGDClassifier                      0.89               0.92     0.92      0.89   \n",
      "BernoulliNB                        0.89               0.92     0.92      0.89   \n",
      "PassiveAggressiveClassifier        0.89               0.92     0.92      0.89   \n",
      "XGBClassifier                      0.78               0.83     0.83      0.78   \n",
      "AdaBoostClassifier                 0.78               0.83     0.83      0.78   \n",
      "GaussianNB                         0.89               0.83     0.83      0.88   \n",
      "QuadraticDiscriminantAnalysis      0.67               0.75     0.75      0.67   \n",
      "NearestCentroid                    0.67               0.75     0.75      0.67   \n",
      "ExtraTreeClassifier                0.67               0.75     0.75      0.67   \n",
      "LabelSpreading                     0.67               0.50     0.50      0.53   \n",
      "LabelPropagation                   0.67               0.50     0.50      0.53   \n",
      "DummyClassifier                    0.67               0.50     0.50      0.53   \n",
      "LGBMClassifier                     0.67               0.50     0.50      0.53   \n",
      "\n",
      "                               Time Taken  \n",
      "Model                                      \n",
      "LinearSVC                            0.01  \n",
      "LinearDiscriminantAnalysis           0.01  \n",
      "NuSVC                                0.01  \n",
      "CalibratedClassifierCV               0.06  \n",
      "DecisionTreeClassifier               0.02  \n",
      "RandomForestClassifier               0.16  \n",
      "SVC                                  0.03  \n",
      "ExtraTreesClassifier                 0.16  \n",
      "LogisticRegression                   0.02  \n",
      "BaggingClassifier                    0.07  \n",
      "RidgeClassifierCV                    0.02  \n",
      "RidgeClassifier                      0.02  \n",
      "KNeighborsClassifier                 0.04  \n",
      "Perceptron                           0.01  \n",
      "SGDClassifier                        0.02  \n",
      "BernoulliNB                          0.03  \n",
      "PassiveAggressiveClassifier          0.02  \n",
      "XGBClassifier                        1.57  \n",
      "AdaBoostClassifier                   0.04  \n",
      "GaussianNB                           0.03  \n",
      "QuadraticDiscriminantAnalysis        0.01  \n",
      "NearestCentroid                      0.02  \n",
      "ExtraTreeClassifier                  0.02  \n",
      "LabelSpreading                       0.01  \n",
      "LabelPropagation                     0.01  \n",
      "DummyClassifier                      0.02  \n",
      "LGBMClassifier                       0.43  \n",
      "                               Accuracy  Balanced Accuracy  ROC AUC  F1 Score  \\\n",
      "Model                                                                           \n",
      "LinearSVC                          1.00               1.00     1.00      1.00   \n",
      "LinearDiscriminantAnalysis         1.00               1.00     1.00      1.00   \n",
      "NuSVC                              1.00               1.00     1.00      1.00   \n",
      "CalibratedClassifierCV             1.00               1.00     1.00      1.00   \n",
      "DecisionTreeClassifier             1.00               1.00     1.00      1.00   \n",
      "RandomForestClassifier             1.00               1.00     1.00      1.00   \n",
      "SVC                                1.00               1.00     1.00      1.00   \n",
      "ExtraTreesClassifier               1.00               1.00     1.00      1.00   \n",
      "LogisticRegression                 1.00               1.00     1.00      1.00   \n",
      "BaggingClassifier                  1.00               1.00     1.00      1.00   \n",
      "RidgeClassifierCV                  1.00               1.00     1.00      1.00   \n",
      "RidgeClassifier                    1.00               1.00     1.00      1.00   \n",
      "KNeighborsClassifier               0.89               0.92     0.92      0.89   \n",
      "Perceptron                         0.89               0.92     0.92      0.89   \n",
      "SGDClassifier                      0.89               0.92     0.92      0.89   \n",
      "BernoulliNB                        0.89               0.92     0.92      0.89   \n",
      "PassiveAggressiveClassifier        0.89               0.92     0.92      0.89   \n",
      "XGBClassifier                      0.78               0.83     0.83      0.78   \n",
      "AdaBoostClassifier                 0.78               0.83     0.83      0.78   \n",
      "GaussianNB                         0.89               0.83     0.83      0.88   \n",
      "QuadraticDiscriminantAnalysis      0.67               0.75     0.75      0.67   \n",
      "NearestCentroid                    0.67               0.75     0.75      0.67   \n",
      "ExtraTreeClassifier                0.67               0.75     0.75      0.67   \n",
      "LabelSpreading                     0.67               0.50     0.50      0.53   \n",
      "LabelPropagation                   0.67               0.50     0.50      0.53   \n",
      "DummyClassifier                    0.67               0.50     0.50      0.53   \n",
      "LGBMClassifier                     0.67               0.50     0.50      0.53   \n",
      "\n",
      "                               Time Taken  \n",
      "Model                                      \n",
      "LinearSVC                            0.01  \n",
      "LinearDiscriminantAnalysis           0.01  \n",
      "NuSVC                                0.01  \n",
      "CalibratedClassifierCV               0.06  \n",
      "DecisionTreeClassifier               0.02  \n",
      "RandomForestClassifier               0.16  \n",
      "SVC                                  0.03  \n",
      "ExtraTreesClassifier                 0.16  \n",
      "LogisticRegression                   0.02  \n",
      "BaggingClassifier                    0.07  \n",
      "RidgeClassifierCV                    0.02  \n",
      "RidgeClassifier                      0.02  \n",
      "KNeighborsClassifier                 0.04  \n",
      "Perceptron                           0.01  \n",
      "SGDClassifier                        0.02  \n",
      "BernoulliNB                          0.03  \n",
      "PassiveAggressiveClassifier          0.02  \n",
      "XGBClassifier                        1.57  \n",
      "AdaBoostClassifier                   0.04  \n",
      "GaussianNB                           0.03  \n",
      "QuadraticDiscriminantAnalysis        0.01  \n",
      "NearestCentroid                      0.02  \n",
      "ExtraTreeClassifier                  0.02  \n",
      "LabelSpreading                       0.01  \n",
      "LabelPropagation                     0.01  \n",
      "DummyClassifier                      0.02  \n",
      "LGBMClassifier                       0.43  \n"
     ]
    },
    {
     "name": "stderr",
     "output_type": "stream",
     "text": [
      "\n"
     ]
    }
   ],
   "source": [
    "# Imputing missing values AFTER the data split\n",
    "X_train = SimpleImputer(missing_values=np.nan, strategy='mean').fit_transform(X_train)\n",
    "X_test = SimpleImputer(missing_values=np.nan, strategy='mean').fit_transform(X_test)\n",
    "\n",
    "clf = LazyClassifier(verbose=0, ignore_warnings=True, custom_metric=None)\n",
    "models, predictions = clf.fit(X_train, X_test, y_train, y_test)\n",
    "\n",
    "print(models)"
   ]
  },
  {
   "attachments": {},
   "cell_type": "markdown",
   "metadata": {},
   "source": [
    "# Actual Model Training\n",
    "\n",
    "Simply train a random forest model."
   ]
  },
  {
   "cell_type": "code",
   "execution_count": 6,
   "metadata": {},
   "outputs": [
    {
     "name": "stdout",
     "output_type": "stream",
     "text": [
      "[0 0 0 0 1 0 1 1 1]\n",
      "              precision    recall  f1-score   support\n",
      "\n",
      "       Ready       1.00      0.83      0.91         6\n",
      "         Dab       0.75      1.00      0.86         3\n",
      "\n",
      "    accuracy                           0.89         9\n",
      "   macro avg       0.88      0.92      0.88         9\n",
      "weighted avg       0.92      0.89      0.89         9\n",
      "\n"
     ]
    }
   ],
   "source": [
    "# Use ham's data as testing data\n",
    "train_data = pd.read_csv(\"./data/training_landmarks.csv\").to_numpy(copy=True)\n",
    "test_data = pd.read_csv(\"./data/testing_landmarks.csv\").to_numpy(copy=True)\n",
    "\n",
    "X_train = train_data[:, 1:-1]\n",
    "y_train = train_data[:, -1]\n",
    "X_test = test_data[:, 1:-1]\n",
    "y_test = test_data[:, -1]\n",
    "\n",
    "# Encode y into numerical labels\n",
    "le = preprocessing.LabelEncoder()\n",
    "y_train = le.fit_transform(y_train)\n",
    "y_test = le.fit_transform(y_test)\n",
    "\n",
    "# Imputing missing values AFTER the data split\n",
    "X_train = SimpleImputer(missing_values=np.nan, strategy='mean').fit_transform(X_train)\n",
    "X_test = SimpleImputer(missing_values=np.nan, strategy='mean').fit_transform(X_test)\n",
    "\n",
    "from sklearn.ensemble import RandomForestClassifier\n",
    "clf = RandomForestClassifier(n_estimators=100, random_state=0)\n",
    "clf.fit(X_train, y_train)\n",
    "\n",
    "y_pred = clf.predict(X_test)\n",
    "print(y_pred)\n",
    "\n",
    "from sklearn.metrics import classification_report\n",
    "target_names = ['Ready', 'Dab']\n",
    "print(classification_report(y_test, y_pred, target_names=target_names))"
   ]
  },
  {
   "cell_type": "code",
   "execution_count": 7,
   "metadata": {},
   "outputs": [],
   "source": [
    "# Save the model to a pkl file for deployment\n",
    "import pickle\n",
    "pickle.dump(clf, open(\"./models/classifier.pkl\", 'wb'))"
   ]
  }
 ],
 "metadata": {
  "kernelspec": {
   "display_name": "qhack",
   "language": "python",
   "name": "python3"
  },
  "language_info": {
   "codemirror_mode": {
    "name": "ipython",
    "version": 3
   },
   "file_extension": ".py",
   "mimetype": "text/x-python",
   "name": "python",
   "nbconvert_exporter": "python",
   "pygments_lexer": "ipython3",
   "version": "3.9.16"
  },
  "orig_nbformat": 4,
  "vscode": {
   "interpreter": {
    "hash": "0ba3a6021857950ef2534fe6a48cef7b25d428fb81c27d4c7eed9c8b95b84192"
   }
  }
 },
 "nbformat": 4,
 "nbformat_minor": 2
}
